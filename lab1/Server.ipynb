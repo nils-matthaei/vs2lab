{
 "cells": [
  {
   "cell_type": "markdown",
   "metadata": {},
   "source": [
    "# Running server and client in separate notebooks - server part\n",
    "This is the first notebook we need to run in this constelation. Note that the client notebook needs to be run now in a separate window."
   ]
  },
  {
   "cell_type": "code",
   "execution_count": 1,
   "metadata": {},
   "outputs": [
    {
     "name": "stderr",
     "output_type": "stream",
     "text": [
      "2024-10-31 16:04:47,225 - vs2lab.lab1.clientserver.Server - INFO - Server bound to socket: <socket.socket fd=57, family=2, type=1, proto=0, laddr=('127.0.0.1', 50007)>\n",
      "2024-10-31 16:04:47,225 - vs2lab.lab1.clientserver.Server - INFO - Server is listening for connections.\n",
      "2024-10-31 16:04:47,226 - vs2lab.lab1.clientserver.Server - INFO - Waiting for a connection...\n",
      "2024-10-31 16:04:50,229 - vs2lab.lab1.clientserver.Server - INFO - Socket timeout occurred, continuing to listen.\n",
      "2024-10-31 16:04:50,229 - vs2lab.lab1.clientserver.Server - INFO - Waiting for a connection...\n",
      "2024-10-31 16:04:51,493 - vs2lab.lab1.clientserver.Server - INFO - Connection accepted from: ('127.0.0.1', 50166)\n",
      "2024-10-31 16:04:51,494 - vs2lab.lab1.clientserver.Server - INFO - Received message: GET Bob\n",
      "2024-10-31 16:04:51,494 - vs2lab.lab1.clientserver.Server - INFO - Sending response: 987-654-3210\n",
      "2024-10-31 16:04:51,495 - vs2lab.lab1.clientserver.Server - INFO - No data received. Closing connection to: ('127.0.0.1', 50166)\n",
      "2024-10-31 16:04:51,495 - vs2lab.lab1.clientserver.Server - INFO - Connection closed for: ('127.0.0.1', 50166)\n",
      "2024-10-31 16:04:51,495 - vs2lab.lab1.clientserver.Server - INFO - Waiting for a connection...\n",
      "2024-10-31 16:04:54,499 - vs2lab.lab1.clientserver.Server - INFO - Socket timeout occurred, continuing to listen.\n",
      "2024-10-31 16:04:54,499 - vs2lab.lab1.clientserver.Server - INFO - Waiting for a connection...\n",
      "2024-10-31 16:04:57,503 - vs2lab.lab1.clientserver.Server - INFO - Socket timeout occurred, continuing to listen.\n",
      "2024-10-31 16:04:57,504 - vs2lab.lab1.clientserver.Server - INFO - Waiting for a connection...\n",
      "2024-10-31 16:05:00,507 - vs2lab.lab1.clientserver.Server - INFO - Socket timeout occurred, continuing to listen.\n",
      "2024-10-31 16:05:00,509 - vs2lab.lab1.clientserver.Server - INFO - Waiting for a connection...\n",
      "2024-10-31 16:05:03,512 - vs2lab.lab1.clientserver.Server - INFO - Socket timeout occurred, continuing to listen.\n",
      "2024-10-31 16:05:03,512 - vs2lab.lab1.clientserver.Server - INFO - Waiting for a connection...\n",
      "2024-10-31 16:05:05,628 - vs2lab.lab1.clientserver.Server - INFO - Connection accepted from: ('127.0.0.1', 52744)\n",
      "2024-10-31 16:05:05,629 - vs2lab.lab1.clientserver.Server - INFO - Received message: GET Bob\n",
      "2024-10-31 16:05:05,630 - vs2lab.lab1.clientserver.Server - INFO - Sending response: 987-654-3210\n",
      "2024-10-31 16:05:05,631 - vs2lab.lab1.clientserver.Server - INFO - No data received. Closing connection to: ('127.0.0.1', 52744)\n",
      "2024-10-31 16:05:05,631 - vs2lab.lab1.clientserver.Server - INFO - Connection closed for: ('127.0.0.1', 52744)\n",
      "2024-10-31 16:05:05,631 - vs2lab.lab1.clientserver.Server - INFO - Waiting for a connection...\n",
      "2024-10-31 16:05:08,635 - vs2lab.lab1.clientserver.Server - INFO - Socket timeout occurred, continuing to listen.\n",
      "2024-10-31 16:05:08,635 - vs2lab.lab1.clientserver.Server - INFO - Waiting for a connection...\n",
      "2024-10-31 16:05:11,639 - vs2lab.lab1.clientserver.Server - INFO - Socket timeout occurred, continuing to listen.\n",
      "2024-10-31 16:05:11,640 - vs2lab.lab1.clientserver.Server - INFO - Waiting for a connection...\n",
      "2024-10-31 16:05:14,644 - vs2lab.lab1.clientserver.Server - INFO - Socket timeout occurred, continuing to listen.\n",
      "2024-10-31 16:05:14,645 - vs2lab.lab1.clientserver.Server - INFO - Waiting for a connection...\n",
      "2024-10-31 16:05:17,649 - vs2lab.lab1.clientserver.Server - INFO - Socket timeout occurred, continuing to listen.\n",
      "2024-10-31 16:05:17,650 - vs2lab.lab1.clientserver.Server - INFO - Waiting for a connection...\n",
      "2024-10-31 16:05:20,653 - vs2lab.lab1.clientserver.Server - INFO - Socket timeout occurred, continuing to listen.\n",
      "2024-10-31 16:05:20,654 - vs2lab.lab1.clientserver.Server - INFO - Waiting for a connection...\n",
      "2024-10-31 16:05:23,658 - vs2lab.lab1.clientserver.Server - INFO - Socket timeout occurred, continuing to listen.\n",
      "2024-10-31 16:05:23,658 - vs2lab.lab1.clientserver.Server - INFO - Waiting for a connection...\n",
      "2024-10-31 16:05:26,662 - vs2lab.lab1.clientserver.Server - INFO - Socket timeout occurred, continuing to listen.\n",
      "2024-10-31 16:05:26,663 - vs2lab.lab1.clientserver.Server - INFO - Waiting for a connection...\n",
      "2024-10-31 16:05:29,667 - vs2lab.lab1.clientserver.Server - INFO - Socket timeout occurred, continuing to listen.\n",
      "2024-10-31 16:05:29,668 - vs2lab.lab1.clientserver.Server - INFO - Waiting for a connection...\n",
      "2024-10-31 16:05:32,672 - vs2lab.lab1.clientserver.Server - INFO - Socket timeout occurred, continuing to listen.\n",
      "2024-10-31 16:05:32,673 - vs2lab.lab1.clientserver.Server - INFO - Waiting for a connection...\n",
      "2024-10-31 16:05:35,677 - vs2lab.lab1.clientserver.Server - INFO - Socket timeout occurred, continuing to listen.\n",
      "2024-10-31 16:05:35,678 - vs2lab.lab1.clientserver.Server - INFO - Waiting for a connection...\n",
      "2024-10-31 16:05:38,682 - vs2lab.lab1.clientserver.Server - INFO - Socket timeout occurred, continuing to listen.\n",
      "2024-10-31 16:05:38,683 - vs2lab.lab1.clientserver.Server - INFO - Waiting for a connection...\n",
      "2024-10-31 16:05:41,686 - vs2lab.lab1.clientserver.Server - INFO - Socket timeout occurred, continuing to listen.\n",
      "2024-10-31 16:05:41,686 - vs2lab.lab1.clientserver.Server - INFO - Waiting for a connection...\n",
      "2024-10-31 16:05:44,690 - vs2lab.lab1.clientserver.Server - INFO - Socket timeout occurred, continuing to listen.\n",
      "2024-10-31 16:05:44,690 - vs2lab.lab1.clientserver.Server - INFO - Waiting for a connection...\n",
      "2024-10-31 16:05:47,693 - vs2lab.lab1.clientserver.Server - INFO - Socket timeout occurred, continuing to listen.\n",
      "2024-10-31 16:05:47,694 - vs2lab.lab1.clientserver.Server - INFO - Waiting for a connection...\n",
      "2024-10-31 16:05:50,698 - vs2lab.lab1.clientserver.Server - INFO - Socket timeout occurred, continuing to listen.\n",
      "2024-10-31 16:05:50,698 - vs2lab.lab1.clientserver.Server - INFO - Waiting for a connection...\n",
      "2024-10-31 16:05:53,702 - vs2lab.lab1.clientserver.Server - INFO - Socket timeout occurred, continuing to listen.\n",
      "2024-10-31 16:05:53,703 - vs2lab.lab1.clientserver.Server - INFO - Waiting for a connection...\n",
      "2024-10-31 16:05:56,707 - vs2lab.lab1.clientserver.Server - INFO - Socket timeout occurred, continuing to listen.\n",
      "2024-10-31 16:05:56,707 - vs2lab.lab1.clientserver.Server - INFO - Waiting for a connection...\n"
     ]
    },
    {
     "ename": "KeyboardInterrupt",
     "evalue": "",
     "output_type": "error",
     "traceback": [
      "\u001b[0;31m---------------------------------------------------------------------------\u001b[0m",
      "\u001b[0;31mKeyboardInterrupt\u001b[0m                         Traceback (most recent call last)",
      "Cell \u001b[0;32mIn[1], line 5\u001b[0m\n\u001b[1;32m      1\u001b[0m \u001b[38;5;28;01mimport\u001b[39;00m \u001b[38;5;21;01mclientserver\u001b[39;00m \u001b[38;5;66;03m# import from our script\u001b[39;00m\n\u001b[1;32m      3\u001b[0m server \u001b[38;5;241m=\u001b[39m clientserver\u001b[38;5;241m.\u001b[39mServer() \u001b[38;5;66;03m# Create a server instance\u001b[39;00m\n\u001b[0;32m----> 5\u001b[0m \u001b[43mserver\u001b[49m\u001b[38;5;241;43m.\u001b[39;49m\u001b[43mserve\u001b[49m\u001b[43m(\u001b[49m\u001b[43m)\u001b[49m \u001b[38;5;66;03m# start server routine in the forked process\u001b[39;00m\n",
      "File \u001b[0;32m/workspaces/vs2lab/lab1/clientserver.py:43\u001b[0m, in \u001b[0;36mServer.serve\u001b[0;34m(self)\u001b[0m\n\u001b[1;32m     41\u001b[0m \u001b[38;5;28;01mtry\u001b[39;00m:\n\u001b[1;32m     42\u001b[0m     \u001b[38;5;28mself\u001b[39m\u001b[38;5;241m.\u001b[39m_logger\u001b[38;5;241m.\u001b[39minfo(\u001b[38;5;124m\"\u001b[39m\u001b[38;5;124mWaiting for a connection...\u001b[39m\u001b[38;5;124m\"\u001b[39m)\n\u001b[0;32m---> 43\u001b[0m     (connection, address) \u001b[38;5;241m=\u001b[39m \u001b[38;5;28;43mself\u001b[39;49m\u001b[38;5;241;43m.\u001b[39;49m\u001b[43msock\u001b[49m\u001b[38;5;241;43m.\u001b[39;49m\u001b[43maccept\u001b[49m\u001b[43m(\u001b[49m\u001b[43m)\u001b[49m  \u001b[38;5;66;03m# returns new socket and address of client\u001b[39;00m\n\u001b[1;32m     44\u001b[0m     \u001b[38;5;28mself\u001b[39m\u001b[38;5;241m.\u001b[39m_logger\u001b[38;5;241m.\u001b[39minfo(\u001b[38;5;124m\"\u001b[39m\u001b[38;5;124mConnection accepted from: \u001b[39m\u001b[38;5;132;01m%s\u001b[39;00m\u001b[38;5;124m\"\u001b[39m, \u001b[38;5;28mstr\u001b[39m(address))\n\u001b[1;32m     46\u001b[0m     \u001b[38;5;28;01mwhile\u001b[39;00m \u001b[38;5;28;01mTrue\u001b[39;00m:  \u001b[38;5;66;03m# forever\u001b[39;00m\n",
      "File \u001b[0;32m/usr/local/lib/python3.11/socket.py:294\u001b[0m, in \u001b[0;36msocket.accept\u001b[0;34m(self)\u001b[0m\n\u001b[1;32m    287\u001b[0m \u001b[38;5;28;01mdef\u001b[39;00m \u001b[38;5;21maccept\u001b[39m(\u001b[38;5;28mself\u001b[39m):\n\u001b[1;32m    288\u001b[0m \u001b[38;5;250m    \u001b[39m\u001b[38;5;124;03m\"\"\"accept() -> (socket object, address info)\u001b[39;00m\n\u001b[1;32m    289\u001b[0m \n\u001b[1;32m    290\u001b[0m \u001b[38;5;124;03m    Wait for an incoming connection.  Return a new socket\u001b[39;00m\n\u001b[1;32m    291\u001b[0m \u001b[38;5;124;03m    representing the connection, and the address of the client.\u001b[39;00m\n\u001b[1;32m    292\u001b[0m \u001b[38;5;124;03m    For IP sockets, the address info is a pair (hostaddr, port).\u001b[39;00m\n\u001b[1;32m    293\u001b[0m \u001b[38;5;124;03m    \"\"\"\u001b[39;00m\n\u001b[0;32m--> 294\u001b[0m     fd, addr \u001b[38;5;241m=\u001b[39m \u001b[38;5;28;43mself\u001b[39;49m\u001b[38;5;241;43m.\u001b[39;49m\u001b[43m_accept\u001b[49m\u001b[43m(\u001b[49m\u001b[43m)\u001b[49m\n\u001b[1;32m    295\u001b[0m     sock \u001b[38;5;241m=\u001b[39m socket(\u001b[38;5;28mself\u001b[39m\u001b[38;5;241m.\u001b[39mfamily, \u001b[38;5;28mself\u001b[39m\u001b[38;5;241m.\u001b[39mtype, \u001b[38;5;28mself\u001b[39m\u001b[38;5;241m.\u001b[39mproto, fileno\u001b[38;5;241m=\u001b[39mfd)\n\u001b[1;32m    296\u001b[0m     \u001b[38;5;66;03m# Issue #7995: if no default timeout is set and the listening\u001b[39;00m\n\u001b[1;32m    297\u001b[0m     \u001b[38;5;66;03m# socket had a (non-zero) timeout, force the new socket in blocking\u001b[39;00m\n\u001b[1;32m    298\u001b[0m     \u001b[38;5;66;03m# mode to override platform-specific socket flags inheritance.\u001b[39;00m\n",
      "\u001b[0;31mKeyboardInterrupt\u001b[0m: "
     ]
    }
   ],
   "source": [
    "import clientserver # import from our script\n",
    "\n",
    "server = clientserver.Server() # Create a server instance\n",
    "\n",
    "server.serve() # start server routine in the forked process"
   ]
  },
  {
   "cell_type": "markdown",
   "metadata": {},
   "source": [
    "Finished"
   ]
  }
 ],
 "metadata": {
  "kernelspec": {
   "display_name": "Python 3 (ipykernel)",
   "language": "python",
   "name": "python3"
  },
  "language_info": {
   "codemirror_mode": {
    "name": "ipython",
    "version": 3
   },
   "file_extension": ".py",
   "mimetype": "text/x-python",
   "name": "python",
   "nbconvert_exporter": "python",
   "pygments_lexer": "ipython3",
   "version": "3.11.4"
  }
 },
 "nbformat": 4,
 "nbformat_minor": 2
}
