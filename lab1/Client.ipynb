{
 "cells": [
  {
   "cell_type": "markdown",
   "metadata": {},
   "source": [
    "# Running server and client in separate notebooks - client part\n",
    "\n",
    "Here we start the client. The server needs to be started first. Lets go...."
   ]
  },
  {
   "cell_type": "code",
   "execution_count": 5,
   "metadata": {},
   "outputs": [],
   "source": [
    "import clientserver # import from our script\n",
    "\n",
    "client = clientserver.Client() # Create a client instance\n"
   ]
  },
  {
   "cell_type": "code",
   "execution_count": null,
   "metadata": {},
   "outputs": [
    {
     "name": "stderr",
     "output_type": "stream",
     "text": [
      "2024-10-31 16:05:05,626 - vs2lab.a1_layers.clientserver.Client - INFO - Creating socket.\n",
      "2024-10-31 16:05:05,627 - vs2lab.a1_layers.clientserver.Client - INFO - Socket created: <socket.socket fd=58, family=2, type=1, proto=0, laddr=('0.0.0.0', 0)>\n",
      "2024-10-31 16:05:05,628 - vs2lab.a1_layers.clientserver.Client - INFO - Connecting to server at 127.0.0.1:50007\n",
      "2024-10-31 16:05:05,628 - vs2lab.a1_layers.clientserver.Client - INFO - Client connected to socket: <socket.socket fd=58, family=2, type=1, proto=0, laddr=('127.0.0.1', 52744), raddr=('127.0.0.1', 50007)>\n",
      "2024-10-31 16:05:05,629 - vs2lab.a1_layers.clientserver.Client - INFO - Sending message: GET Bob\n",
      "2024-10-31 16:05:05,629 - vs2lab.a1_layers.clientserver.Client - INFO - Message sent, waiting for response.\n",
      "2024-10-31 16:05:05,630 - vs2lab.a1_layers.clientserver.Client - INFO - Received response: 987-654-3210\n",
      "2024-10-31 16:05:05,630 - vs2lab.a1_layers.clientserver.Client - INFO - Socket closed. Client down.\n"
     ]
    },
    {
     "data": {
      "text/plain": [
       "'987-654-3210'"
      ]
     },
     "execution_count": 9,
     "metadata": {},
     "output_type": "execute_result"
    }
   ],
   "source": [
    "client.get_number(\"Bob\")"
   ]
  },
  {
   "cell_type": "code",
   "execution_count": 10,
   "metadata": {},
   "outputs": [
    {
     "name": "stderr",
     "output_type": "stream",
     "text": [
      "2024-10-31 16:13:45,565 - vs2lab.a1_layers.clientserver.Client - INFO - Creating socket.\n",
      "2024-10-31 16:13:45,565 - vs2lab.a1_layers.clientserver.Client - INFO - Socket created: <socket.socket fd=57, family=2, type=1, proto=0, laddr=('0.0.0.0', 0)>\n",
      "2024-10-31 16:13:45,565 - vs2lab.a1_layers.clientserver.Client - INFO - Connecting to server at 127.0.0.1:50007\n",
      "2024-10-31 16:13:45,566 - vs2lab.a1_layers.clientserver.Client - INFO - Client connected to socket: <socket.socket fd=57, family=2, type=1, proto=0, laddr=('127.0.0.1', 52058), raddr=('127.0.0.1', 50007)>\n",
      "2024-10-31 16:13:45,566 - vs2lab.a1_layers.clientserver.Client - INFO - Sending message: GET Bobby\n",
      "2024-10-31 16:13:45,566 - vs2lab.a1_layers.clientserver.Client - INFO - Message sent, waiting for response.\n"
     ]
    },
    {
     "ename": "KeyboardInterrupt",
     "evalue": "",
     "output_type": "error",
     "traceback": [
      "\u001b[0;31m---------------------------------------------------------------------------\u001b[0m",
      "\u001b[0;31mKeyboardInterrupt\u001b[0m                         Traceback (most recent call last)",
      "Cell \u001b[0;32mIn[10], line 1\u001b[0m\n\u001b[0;32m----> 1\u001b[0m \u001b[43mclient\u001b[49m\u001b[38;5;241;43m.\u001b[39;49m\u001b[43mget_number\u001b[49m\u001b[43m(\u001b[49m\u001b[38;5;124;43m\"\u001b[39;49m\u001b[38;5;124;43mBobby\u001b[39;49m\u001b[38;5;124;43m\"\u001b[39;49m\u001b[43m)\u001b[49m\n",
      "File \u001b[0;32m/workspaces/vs2lab/lab1/clientserver.py:106\u001b[0m, in \u001b[0;36mget_number\u001b[0;34m(self, name)\u001b[0m\n\u001b[1;32m      0\u001b[0m <Error retrieving source code with stack_data see ipython/ipython#13598>\n",
      "File \u001b[0;32m/workspaces/vs2lab/lab1/clientserver.py:91\u001b[0m, in \u001b[0;36mcall\u001b[0;34m(self, msg_in)\u001b[0m\n\u001b[1;32m     89\u001b[0m \u001b[38;5;28;01mdef\u001b[39;00m \u001b[38;5;21mcall\u001b[39m(\u001b[38;5;28mself\u001b[39m, msg_in):\n\u001b[1;32m     90\u001b[0m \u001b[38;5;250m    \u001b[39m\u001b[38;5;124;03m\"\"\" Call server \"\"\"\u001b[39;00m\n\u001b[0;32m---> 91\u001b[0m     \u001b[38;5;28mself\u001b[39m\u001b[38;5;241m.\u001b[39mlogger\u001b[38;5;241m.\u001b[39minfo(\u001b[38;5;124m\"\u001b[39m\u001b[38;5;124mCreating socket.\u001b[39m\u001b[38;5;124m\"\u001b[39m)\n\u001b[1;32m     92\u001b[0m     \u001b[38;5;28mself\u001b[39m\u001b[38;5;241m.\u001b[39msock \u001b[38;5;241m=\u001b[39m socket\u001b[38;5;241m.\u001b[39msocket(socket\u001b[38;5;241m.\u001b[39mAF_INET, socket\u001b[38;5;241m.\u001b[39mSOCK_STREAM)\n\u001b[1;32m     93\u001b[0m     \u001b[38;5;28mself\u001b[39m\u001b[38;5;241m.\u001b[39mlogger\u001b[38;5;241m.\u001b[39minfo(\u001b[38;5;124m\"\u001b[39m\u001b[38;5;124mSocket created: \u001b[39m\u001b[38;5;132;01m%s\u001b[39;00m\u001b[38;5;124m\"\u001b[39m, \u001b[38;5;28mstr\u001b[39m(\u001b[38;5;28mself\u001b[39m\u001b[38;5;241m.\u001b[39msock))\n",
      "\u001b[0;31mKeyboardInterrupt\u001b[0m: "
     ]
    }
   ],
   "source": [
    "client.get_number(\"Bobby\")"
   ]
  },
  {
   "cell_type": "code",
   "execution_count": 7,
   "metadata": {},
   "outputs": [
    {
     "name": "stderr",
     "output_type": "stream",
     "text": [
      "2024-10-31 16:03:46,759 - vs2lab.a1_layers.clientserver.Client - INFO - Creating socket.\n",
      "2024-10-31 16:03:46,760 - vs2lab.a1_layers.clientserver.Client - INFO - Socket created: <socket.socket fd=58, family=2, type=1, proto=0, laddr=('0.0.0.0', 0)>\n",
      "2024-10-31 16:03:46,761 - vs2lab.a1_layers.clientserver.Client - INFO - Connecting to server at 127.0.0.1:50007\n",
      "2024-10-31 16:03:46,761 - vs2lab.a1_layers.clientserver.Client - INFO - Client connected to socket: <socket.socket fd=58, family=2, type=1, proto=0, laddr=('127.0.0.1', 53074), raddr=('127.0.0.1', 50007)>\n",
      "2024-10-31 16:03:46,761 - vs2lab.a1_layers.clientserver.Client - INFO - Sending message: GETALL\n",
      "2024-10-31 16:03:46,762 - vs2lab.a1_layers.clientserver.Client - INFO - Message sent, waiting for response.\n",
      "2024-10-31 16:03:46,762 - vs2lab.a1_layers.clientserver.Client - INFO - Received response: {\"Alice\": \"123-456-7890\", \"Bob\": \"987-654-3210\", \"Charlie\": \"555-555-5555\", \"David\": \"444-444-4444\", \"Eve\": \"333-333-3333\"}\n",
      "2024-10-31 16:03:46,762 - vs2lab.a1_layers.clientserver.Client - INFO - Socket closed. Client down.\n"
     ]
    },
    {
     "data": {
      "text/plain": [
       "'{\"Alice\": \"123-456-7890\", \"Bob\": \"987-654-3210\", \"Charlie\": \"555-555-5555\", \"David\": \"444-444-4444\", \"Eve\": \"333-333-3333\"}'"
      ]
     },
     "execution_count": 7,
     "metadata": {},
     "output_type": "execute_result"
    }
   ],
   "source": [
    "client.get_all_numbers()"
   ]
  },
  {
   "cell_type": "markdown",
   "metadata": {},
   "source": [
    "Finished."
   ]
  }
 ],
 "metadata": {
  "kernelspec": {
   "display_name": "Python 3 (ipykernel)",
   "language": "python",
   "name": "python3"
  },
  "language_info": {
   "codemirror_mode": {
    "name": "ipython",
    "version": 3
   },
   "file_extension": ".py",
   "mimetype": "text/x-python",
   "name": "python",
   "nbconvert_exporter": "python",
   "pygments_lexer": "ipython3",
   "version": "3.11.4"
  }
 },
 "nbformat": 4,
 "nbformat_minor": 2
}
