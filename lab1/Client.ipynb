{
 "cells": [
  {
   "cell_type": "markdown",
   "metadata": {},
   "source": [
    "# Phonebook Client\n",
    "\n"
   ]
  },
  {
   "cell_type": "markdown",
   "metadata": {},
   "source": [
    "Import dependencies and instantiate client"
   ]
  },
  {
   "cell_type": "code",
   "execution_count": 1,
   "metadata": {},
   "outputs": [],
   "source": [
    "import clientserver # import from our script\n",
    "\n",
    "client = clientserver.Client() # Create a client instance\n"
   ]
  },
  {
   "cell_type": "markdown",
   "metadata": {},
   "source": [
    "Look up the number for the name \"Bob\" in the database and return it to the caller."
   ]
  },
  {
   "cell_type": "code",
   "execution_count": 2,
   "metadata": {},
   "outputs": [
    {
     "name": "stderr",
     "output_type": "stream",
     "text": [
      "2024-11-06 09:17:45,463 - vs2lab.a1_layers.clientserver.Client - INFO - Creating socket.\n",
      "2024-11-06 09:17:45,465 - vs2lab.a1_layers.clientserver.Client - INFO - Socket created: <socket.socket fd=58, family=2, type=1, proto=0, laddr=('0.0.0.0', 0)>\n",
      "2024-11-06 09:17:45,468 - vs2lab.a1_layers.clientserver.Client - INFO - Connecting to server at 127.0.0.1:50007\n",
      "2024-11-06 09:17:45,471 - vs2lab.a1_layers.clientserver.Client - INFO - Client connected to socket: <socket.socket fd=58, family=2, type=1, proto=0, laddr=('127.0.0.1', 44808), raddr=('127.0.0.1', 50007)>\n",
      "2024-11-06 09:17:45,474 - vs2lab.a1_layers.clientserver.Client - INFO - Sending message: GET Bob\n",
      "2024-11-06 09:17:45,477 - vs2lab.a1_layers.clientserver.Client - INFO - Message sent, waiting for response.\n",
      "2024-11-06 09:17:45,480 - vs2lab.a1_layers.clientserver.Client - INFO - Received response: 987-654-3210\n",
      "2024-11-06 09:17:45,482 - vs2lab.a1_layers.clientserver.Client - INFO - Socket closed. Client down.\n"
     ]
    },
    {
     "data": {
      "text/plain": [
       "'987-654-3210'"
      ]
     },
     "execution_count": 2,
     "metadata": {},
     "output_type": "execute_result"
    }
   ],
   "source": [
    "client.get_number(\"Bob\")"
   ]
  },
  {
   "cell_type": "markdown",
   "metadata": {},
   "source": [
    "Look up a number that does not exist in the database"
   ]
  },
  {
   "cell_type": "code",
   "execution_count": 3,
   "metadata": {},
   "outputs": [
    {
     "name": "stderr",
     "output_type": "stream",
     "text": [
      "2024-11-06 09:17:52,921 - vs2lab.a1_layers.clientserver.Client - INFO - Creating socket.\n",
      "2024-11-06 09:17:52,924 - vs2lab.a1_layers.clientserver.Client - INFO - Socket created: <socket.socket fd=58, family=2, type=1, proto=0, laddr=('0.0.0.0', 0)>\n",
      "2024-11-06 09:17:52,926 - vs2lab.a1_layers.clientserver.Client - INFO - Connecting to server at 127.0.0.1:50007\n",
      "2024-11-06 09:17:52,929 - vs2lab.a1_layers.clientserver.Client - INFO - Client connected to socket: <socket.socket fd=58, family=2, type=1, proto=0, laddr=('127.0.0.1', 50250), raddr=('127.0.0.1', 50007)>\n",
      "2024-11-06 09:17:52,931 - vs2lab.a1_layers.clientserver.Client - INFO - Sending message: GET Bobby\n",
      "2024-11-06 09:17:52,933 - vs2lab.a1_layers.clientserver.Client - INFO - Message sent, waiting for response.\n",
      "2024-11-06 09:17:52,938 - vs2lab.a1_layers.clientserver.Client - INFO - Received response: Name not found\n",
      "2024-11-06 09:17:52,940 - vs2lab.a1_layers.clientserver.Client - INFO - Socket closed. Client down.\n"
     ]
    },
    {
     "data": {
      "text/plain": [
       "'Name not found'"
      ]
     },
     "execution_count": 3,
     "metadata": {},
     "output_type": "execute_result"
    }
   ],
   "source": [
    "client.get_number(\"Bobby\")"
   ]
  },
  {
   "cell_type": "markdown",
   "metadata": {},
   "source": [
    "Fetch all name:number pairs from the database"
   ]
  },
  {
   "cell_type": "code",
   "execution_count": 4,
   "metadata": {},
   "outputs": [
    {
     "name": "stderr",
     "output_type": "stream",
     "text": [
      "2024-11-06 09:17:58,087 - vs2lab.a1_layers.clientserver.Client - INFO - Creating socket.\n",
      "2024-11-06 09:17:58,091 - vs2lab.a1_layers.clientserver.Client - INFO - Socket created: <socket.socket fd=58, family=2, type=1, proto=0, laddr=('0.0.0.0', 0)>\n",
      "2024-11-06 09:17:58,094 - vs2lab.a1_layers.clientserver.Client - INFO - Connecting to server at 127.0.0.1:50007\n",
      "2024-11-06 09:17:58,097 - vs2lab.a1_layers.clientserver.Client - INFO - Client connected to socket: <socket.socket fd=58, family=2, type=1, proto=0, laddr=('127.0.0.1', 45804), raddr=('127.0.0.1', 50007)>\n",
      "2024-11-06 09:17:58,098 - vs2lab.a1_layers.clientserver.Client - INFO - Sending message: GETALL\n",
      "2024-11-06 09:17:58,101 - vs2lab.a1_layers.clientserver.Client - INFO - Message sent, waiting for response.\n",
      "2024-11-06 09:17:58,103 - vs2lab.a1_layers.clientserver.Client - INFO - Received response: {\"Alice\": \"123-456-7890\", \"Bob\": \"987-654-3210\", \"Charlie\": \"555-555-5555\", \"David\": \"444-444-4444\", \"Eve\": \"333-333-3333\"}\n",
      "2024-11-06 09:17:58,105 - vs2lab.a1_layers.clientserver.Client - INFO - Socket closed. Client down.\n"
     ]
    },
    {
     "data": {
      "text/plain": [
       "'{\"Alice\": \"123-456-7890\", \"Bob\": \"987-654-3210\", \"Charlie\": \"555-555-5555\", \"David\": \"444-444-4444\", \"Eve\": \"333-333-3333\"}'"
      ]
     },
     "execution_count": 4,
     "metadata": {},
     "output_type": "execute_result"
    }
   ],
   "source": [
    "client.get_all_numbers()"
   ]
  }
 ],
 "metadata": {
  "kernelspec": {
   "display_name": "Python 3 (ipykernel)",
   "language": "python",
   "name": "python3"
  },
  "language_info": {
   "codemirror_mode": {
    "name": "ipython",
    "version": 3
   },
   "file_extension": ".py",
   "mimetype": "text/x-python",
   "name": "python",
   "nbconvert_exporter": "python",
   "pygments_lexer": "ipython3",
   "version": "3.11.4"
  }
 },
 "nbformat": 4,
 "nbformat_minor": 2
}
